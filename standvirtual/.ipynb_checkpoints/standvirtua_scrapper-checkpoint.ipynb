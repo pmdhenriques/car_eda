{
 "cells": [
  {
   "cell_type": "code",
   "execution_count": 14,
   "metadata": {},
   "outputs": [],
   "source": [
    "from selenium import webdriver\n",
    "from selenium.webdriver import Chrome, ChromeOptions\n",
    "from bs4 import BeautifulSoup\n",
    "\n",
    "import pandas as pd\n",
    "import numpy as np\n",
    "import time\n",
    "import os\n",
    "import datetime\n",
    "from glob import glob\n",
    "from tqdm import tqdm\n",
    "import re\n",
    "\n",
    "today = datetime.date.today().strftime(\"%y%m%d\")\n",
    "\n",
    "cols = ['title', 'fuel_type', 'mileage', 'power', 'origin', 'city', 'region', 'reg_month', 'reg_year', 'garanty', 'price_neg', 'price', 'link']"
   ]
  },
  {
   "cell_type": "code",
   "execution_count": 2,
   "metadata": {},
   "outputs": [],
   "source": [
    "def get_driver():\n",
    "    prefs = {\"profile.managed_default_content_settings.images\": 2}\n",
    "    chrome_options = ChromeOptions()\n",
    "    chrome_options.add_experimental_option(\"prefs\", prefs)\n",
    "    chrome_options.add_argument(\"--incognito\")\n",
    "\n",
    "    driver = Chrome(\"C:\\\\chromedriver_win32\\\\chromedriver.exe\",options=chrome_options)\n",
    "    \n",
    "    return driver"
   ]
  },
  {
   "cell_type": "code",
   "execution_count": 13,
   "metadata": {},
   "outputs": [],
   "source": []
  },
  {
   "cell_type": "code",
   "execution_count": null,
   "metadata": {},
   "outputs": [],
   "source": [
    "wait_time = 0\n",
    "\n",
    "df0 = pd.DataFrame(columns=cols)\n",
    "\n",
    "driver = get_driver()\n",
    "\n",
    "n_cars = 1000\n",
    "n = 0\n",
    "pn = 1\n",
    "while (n < n_cars) | (pn <= 500):\n",
    "    url = 'https://www.standvirtual.com/carros/?search%5Border%5D=created_at%3Adesc&page='+str(pn)\n",
    "    driver.get(url)\n",
    "    \n",
    "    time.sleep(wait_time)\n",
    "    \n",
    "    content = driver.page_source\n",
    "    soup = BeautifulSoup(content)        \n",
    "    \n",
    "    page = soup.findAll('div', attrs={'class':'offer-item__content ds-details-container'})\n",
    "    \n",
    "    if pn == 1:\n",
    "        n_cars = int(soup.findAll('span', attrs={'class':'counter'})[0].text[1:-1].replace(' ',''))\n",
    "    \n",
    "    for i, p in enumerate(page):\n",
    "        \n",
    "        # Title\n",
    "        title = p.find('a', attrs={'class':'offer-title__link'})['title'].strip()\n",
    "        \n",
    "        # Link\n",
    "        link = p.find('a', attrs={'class':'offer-title__link'})['href']\n",
    "        \n",
    "        # Price\n",
    "        price = float(p.find('span', attrs={'class':'offer-price__number ds-price-number'}).findAll('span')[0].text.replace(' ','').replace(',','.'))\n",
    "        \n",
    "        # Price negotiable\n",
    "        price_neg = p.find('span', attrs={'class':'offer-price__details ds-price-complement'}).text.strip()\n",
    "        \n",
    "        ## Car parameters\n",
    "        car_params = p.find('ul', attrs={'class':'ds-params-block'})\n",
    "        \n",
    "        # Fuel type\n",
    "        fuel_types = car_params.findAll(attrs={'data-code':'fuel_type'})\n",
    "        if len(fuel_types) > 0:\n",
    "            fuel_type = fuel_types[0].text.strip()\n",
    "        else:\n",
    "            fuel_type = ''\n",
    "            \n",
    "        # Registration month\n",
    "        reg_months = car_params.findAll(attrs={'data-code':'first_registration_month'})\n",
    "        if len(reg_months) > 0:\n",
    "            reg_month = reg_months[0].text.strip()\n",
    "        else:\n",
    "            reg_month = ''\n",
    "            \n",
    "        # Registration year\n",
    "        reg_years = car_params.findAll(attrs={'data-code':'first_registration_year'})\n",
    "        if len(reg_years) > 0:\n",
    "            reg_year = float(reg_years[0].text.strip())\n",
    "        else:\n",
    "            reg_year = np.nan\n",
    "            \n",
    "        # Mileage\n",
    "        mileages = car_params.findAll(attrs={'data-code':'mileage'})\n",
    "        if len(mileages) > 0:\n",
    "            mileage = float(mileages[0].text.replace('km','').replace(' ','').strip())\n",
    "        else:\n",
    "            mileage = np.nan\n",
    "            \n",
    "        # Power\n",
    "        powers = car_params.findAll(attrs={'data-code':'power'})\n",
    "        if len(powers) > 0:\n",
    "            power = float(powers[0].text.replace('cv','').replace(' ','').strip())\n",
    "        else:\n",
    "            power = np.nan\n",
    "            \n",
    "        # City\n",
    "        cities = p.findAll('span', attrs={'class':'ds-location-city'})\n",
    "        if len(cities) > 0:\n",
    "            city = cities[0].text.strip()\n",
    "        else:\n",
    "            city = ''\n",
    "            \n",
    "        # Region\n",
    "        regions = p.findAll('span', attrs={'class':'ds-location-region'})\n",
    "        if len(regions) > 0:\n",
    "            region = regions[0].text.strip()[1:-1]\n",
    "        else:\n",
    "            region = ''\n",
    "            \n",
    "        # Garanty\n",
    "        garanties = p.findAll('span', attrs={'class':'tag ds-tag'})\n",
    "        if len(garanties) > 0:\n",
    "            garanty = 1\n",
    "        else:\n",
    "            garanty = 0\n",
    "            \n",
    "        # Origin\n",
    "        origins = p.findAll(attrs={'data-code':'origin'})\n",
    "        if len(origins) > 0:\n",
    "            origin = origins[0].text.strip().split(' ')[1]\n",
    "        else:\n",
    "            origin = ''\n",
    "            \n",
    "        \n",
    "        df1 = pd.DataFrame([[title, fuel_type, mileage, power, origin, city, region, reg_month, reg_year, garanty, price_neg, price, link]], columns=cols)\n",
    "        df0 = df0.append(df1, ignore_index=True)\n",
    "        \n",
    "        if n%1000 == 0:\n",
    "            print('Car %d/%d (%d %%)'%(n,n_cars,n/n_cars*100))\n",
    "        \n",
    "        n += 1\n",
    "    \n",
    "    pn += 1\n",
    "    \n",
    "    time.sleep(wait_time)\n",
    "    \n",
    "driver.close()"
   ]
  },
  {
   "cell_type": "code",
   "execution_count": null,
   "metadata": {},
   "outputs": [],
   "source": [
    "df0 = df0.drop_duplicates()\n",
    "df0.to_csv('data/standvirtual_cars_%s.csv'%(today), index=False)"
   ]
  },
  {
   "cell_type": "markdown",
   "metadata": {},
   "source": [
    "## Add features"
   ]
  },
  {
   "cell_type": "code",
   "execution_count": 3,
   "metadata": {},
   "outputs": [
    {
     "name": "stderr",
     "output_type": "stream",
     "text": [
      "C:\\Users\\henri\\Anaconda3\\envs\\base2\\lib\\site-packages\\IPython\\core\\interactiveshell.py:3063: DtypeWarning: Columns (13,14,15,16,17,18,19,21,22,23,24,25,26,27,28,32,33,34,35,36,37,38,39,40,41,42,43,44,45,47,48,49,50,51,52,54,55,56,57,58,59,60,61,62,63,64,65,66,67) have mixed types.Specify dtype option on import or set low_memory=False.\n",
      "  interactivity=interactivity, compiler=compiler, result=result)\n"
     ]
    }
   ],
   "source": [
    "df0 = pd.read_csv(glob('data/standvirtual_cars_*.csv')[-1])"
   ]
  },
  {
   "cell_type": "code",
   "execution_count": 28,
   "metadata": {},
   "outputs": [
    {
     "name": "stderr",
     "output_type": "stream",
     "text": [
      "100%|██████████████████████████████████████████████████████████████████████████| 12080/12080 [8:22:02<00:00,  2.49s/it]\n"
     ]
    }
   ],
   "source": [
    "nix = np.where(~df0[df0.columns[len(cols):]].any(axis=1))[0]\n",
    "\n",
    "driver = get_driver()\n",
    "n = 0\n",
    "for i in tqdm(nix, total=len(nix)):\n",
    "    url = df0.at[i,'link']\n",
    "    driver.get(url)\n",
    "\n",
    "    content = driver.page_source\n",
    "    soup = BeautifulSoup(content)\n",
    "\n",
    "    feats = soup.findAll('li', attrs={'class':'offer-params__item'})\n",
    "    for feat in feats:\n",
    "        feat_name = feat.find(attrs={'class':'offer-params__label'}).text.strip()\n",
    "        feat_value = feat.find(attrs={'class':'offer-params__value'}).text.strip()\n",
    "        if not feat_name in df0:\n",
    "            df0.insert(len(df0.columns), feat_name,'',True)\n",
    "        df0.at[i,feat_name] = feat_value\n",
    "    if n%100 == 0:\n",
    "        df0.to_csv('data/standvirtual_cars_updated_%s.csv'%(today), index=False)\n",
    "    n += 1\n",
    "df0.to_csv('data/standvirtual_cars_updated_%s.csv'%(today), index=False)"
   ]
  },
  {
   "cell_type": "code",
   "execution_count": 29,
   "metadata": {},
   "outputs": [],
   "source": [
    "df0.to_csv('data/standvirtual_cars_updated_%s.csv'%(today), index=False)"
   ]
  },
  {
   "cell_type": "code",
   "execution_count": null,
   "metadata": {},
   "outputs": [],
   "source": []
  }
 ],
 "metadata": {
  "kernelspec": {
   "display_name": "Python 3",
   "language": "python",
   "name": "python3"
  },
  "language_info": {
   "codemirror_mode": {
    "name": "ipython",
    "version": 3
   },
   "file_extension": ".py",
   "mimetype": "text/x-python",
   "name": "python",
   "nbconvert_exporter": "python",
   "pygments_lexer": "ipython3",
   "version": "3.7.6"
  }
 },
 "nbformat": 4,
 "nbformat_minor": 4
}

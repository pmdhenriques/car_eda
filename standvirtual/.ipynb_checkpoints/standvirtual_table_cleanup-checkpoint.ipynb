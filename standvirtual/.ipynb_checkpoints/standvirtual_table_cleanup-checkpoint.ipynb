{
 "cells": [
  {
   "cell_type": "code",
   "execution_count": 393,
   "metadata": {},
   "outputs": [],
   "source": [
    "import pandas as pd\n",
    "import numpy as np\n",
    "import os\n",
    "import datetime\n",
    "from scipy import stats\n",
    "import missingno as msno\n",
    "\n",
    "import matplotlib.pyplot as plt\n",
    "import seaborn as sns"
   ]
  },
  {
   "cell_type": "code",
   "execution_count": 394,
   "metadata": {},
   "outputs": [
    {
     "data": {
      "text/html": [
       "<div>\n",
       "<style scoped>\n",
       "    .dataframe tbody tr th:only-of-type {\n",
       "        vertical-align: middle;\n",
       "    }\n",
       "\n",
       "    .dataframe tbody tr th {\n",
       "        vertical-align: top;\n",
       "    }\n",
       "\n",
       "    .dataframe thead th {\n",
       "        text-align: right;\n",
       "    }\n",
       "</style>\n",
       "<table border=\"1\" class=\"dataframe\">\n",
       "  <thead>\n",
       "    <tr style=\"text-align: right;\">\n",
       "      <th></th>\n",
       "      <th>title</th>\n",
       "      <th>fuel_type</th>\n",
       "      <th>mileage</th>\n",
       "      <th>power</th>\n",
       "      <th>origin</th>\n",
       "      <th>city</th>\n",
       "      <th>region</th>\n",
       "      <th>reg_month</th>\n",
       "      <th>reg_year</th>\n",
       "      <th>garanty</th>\n",
       "      <th>...</th>\n",
       "      <th>Inspecção válida até</th>\n",
       "      <th>Capota Eléctrica</th>\n",
       "      <th>IVA dedutível</th>\n",
       "      <th>Valor sem IUC</th>\n",
       "      <th>Capota</th>\n",
       "      <th>Autonomia Máxima</th>\n",
       "      <th>Salvado</th>\n",
       "      <th>Clássico</th>\n",
       "      <th>Valor sem ISV</th>\n",
       "      <th>Garantia de Stand (incl. no preço p/mutuo acordo)</th>\n",
       "    </tr>\n",
       "  </thead>\n",
       "  <tbody>\n",
       "    <tr>\n",
       "      <th>0</th>\n",
       "      <td>Mercedes-Benz E 220 Coupe AMG Line</td>\n",
       "      <td>Diesel</td>\n",
       "      <td>32448.0</td>\n",
       "      <td>194.0</td>\n",
       "      <td>NaN</td>\n",
       "      <td>Marinha Grande</td>\n",
       "      <td>Leiria</td>\n",
       "      <td>Maio</td>\n",
       "      <td>2018.0</td>\n",
       "      <td>0</td>\n",
       "      <td>...</td>\n",
       "      <td>NaN</td>\n",
       "      <td>NaN</td>\n",
       "      <td>NaN</td>\n",
       "      <td>NaN</td>\n",
       "      <td>NaN</td>\n",
       "      <td>NaN</td>\n",
       "      <td>NaN</td>\n",
       "      <td>NaN</td>\n",
       "      <td>NaN</td>\n",
       "      <td>NaN</td>\n",
       "    </tr>\n",
       "    <tr>\n",
       "      <th>1</th>\n",
       "      <td>Fiat Bravo II 1.6 D Multijet</td>\n",
       "      <td>Diesel</td>\n",
       "      <td>168000.0</td>\n",
       "      <td>105.0</td>\n",
       "      <td>NaN</td>\n",
       "      <td>Alvalade</td>\n",
       "      <td>Lisboa</td>\n",
       "      <td>Agosto</td>\n",
       "      <td>2008.0</td>\n",
       "      <td>0</td>\n",
       "      <td>...</td>\n",
       "      <td>NaN</td>\n",
       "      <td>NaN</td>\n",
       "      <td>NaN</td>\n",
       "      <td>NaN</td>\n",
       "      <td>NaN</td>\n",
       "      <td>NaN</td>\n",
       "      <td>NaN</td>\n",
       "      <td>NaN</td>\n",
       "      <td>NaN</td>\n",
       "      <td>NaN</td>\n",
       "    </tr>\n",
       "    <tr>\n",
       "      <th>2</th>\n",
       "      <td>BMW M2 Performance</td>\n",
       "      <td>Gasolina</td>\n",
       "      <td>49300.0</td>\n",
       "      <td>370.0</td>\n",
       "      <td>Nacional</td>\n",
       "      <td>Cascais e Estoril</td>\n",
       "      <td>Lisboa</td>\n",
       "      <td>Abril</td>\n",
       "      <td>2016.0</td>\n",
       "      <td>1</td>\n",
       "      <td>...</td>\n",
       "      <td>NaN</td>\n",
       "      <td>NaN</td>\n",
       "      <td>NaN</td>\n",
       "      <td>NaN</td>\n",
       "      <td>NaN</td>\n",
       "      <td>NaN</td>\n",
       "      <td>NaN</td>\n",
       "      <td>NaN</td>\n",
       "      <td>NaN</td>\n",
       "      <td>NaN</td>\n",
       "    </tr>\n",
       "    <tr>\n",
       "      <th>3</th>\n",
       "      <td>BMW i8 E-Drive 365 C.V J 20</td>\n",
       "      <td>Híbrido (Gasolina)</td>\n",
       "      <td>58900.0</td>\n",
       "      <td>365.0</td>\n",
       "      <td>NaN</td>\n",
       "      <td>Sintra (Santa Maria e São Miguel, São Martinho...</td>\n",
       "      <td>Lisboa</td>\n",
       "      <td>Fevereiro</td>\n",
       "      <td>2016.0</td>\n",
       "      <td>1</td>\n",
       "      <td>...</td>\n",
       "      <td>NaN</td>\n",
       "      <td>NaN</td>\n",
       "      <td>NaN</td>\n",
       "      <td>NaN</td>\n",
       "      <td>NaN</td>\n",
       "      <td>NaN</td>\n",
       "      <td>NaN</td>\n",
       "      <td>NaN</td>\n",
       "      <td>NaN</td>\n",
       "      <td>NaN</td>\n",
       "    </tr>\n",
       "    <tr>\n",
       "      <th>4</th>\n",
       "      <td>BMW 118 d</td>\n",
       "      <td>Diesel</td>\n",
       "      <td>142000.0</td>\n",
       "      <td>143.0</td>\n",
       "      <td>NaN</td>\n",
       "      <td>Sacavém e Prior Velho</td>\n",
       "      <td>Lisboa</td>\n",
       "      <td>Julho</td>\n",
       "      <td>2009.0</td>\n",
       "      <td>0</td>\n",
       "      <td>...</td>\n",
       "      <td>NaN</td>\n",
       "      <td>NaN</td>\n",
       "      <td>NaN</td>\n",
       "      <td>NaN</td>\n",
       "      <td>NaN</td>\n",
       "      <td>NaN</td>\n",
       "      <td>NaN</td>\n",
       "      <td>NaN</td>\n",
       "      <td>NaN</td>\n",
       "      <td>NaN</td>\n",
       "    </tr>\n",
       "  </tbody>\n",
       "</table>\n",
       "<p>5 rows × 69 columns</p>\n",
       "</div>"
      ],
      "text/plain": [
       "                                title           fuel_type   mileage  power  \\\n",
       "0  Mercedes-Benz E 220 Coupe AMG Line              Diesel   32448.0  194.0   \n",
       "1        Fiat Bravo II 1.6 D Multijet              Diesel  168000.0  105.0   \n",
       "2                  BMW M2 Performance            Gasolina   49300.0  370.0   \n",
       "3         BMW i8 E-Drive 365 C.V J 20  Híbrido (Gasolina)   58900.0  365.0   \n",
       "4                           BMW 118 d              Diesel  142000.0  143.0   \n",
       "\n",
       "     origin                                               city  region  \\\n",
       "0       NaN                                     Marinha Grande  Leiria   \n",
       "1       NaN                                           Alvalade  Lisboa   \n",
       "2  Nacional                                  Cascais e Estoril  Lisboa   \n",
       "3       NaN  Sintra (Santa Maria e São Miguel, São Martinho...  Lisboa   \n",
       "4       NaN                              Sacavém e Prior Velho  Lisboa   \n",
       "\n",
       "   reg_month  reg_year  garanty  ... Inspecção válida até  Capota Eléctrica  \\\n",
       "0       Maio    2018.0        0  ...                  NaN               NaN   \n",
       "1     Agosto    2008.0        0  ...                  NaN               NaN   \n",
       "2      Abril    2016.0        1  ...                  NaN               NaN   \n",
       "3  Fevereiro    2016.0        1  ...                  NaN               NaN   \n",
       "4      Julho    2009.0        0  ...                  NaN               NaN   \n",
       "\n",
       "  IVA dedutível Valor sem IUC Capota Autonomia Máxima Salvado Clássico  \\\n",
       "0           NaN           NaN    NaN              NaN     NaN      NaN   \n",
       "1           NaN           NaN    NaN              NaN     NaN      NaN   \n",
       "2           NaN           NaN    NaN              NaN     NaN      NaN   \n",
       "3           NaN           NaN    NaN              NaN     NaN      NaN   \n",
       "4           NaN           NaN    NaN              NaN     NaN      NaN   \n",
       "\n",
       "  Valor sem ISV Garantia de Stand (incl. no preço p/mutuo acordo)  \n",
       "0           NaN                                               NaN  \n",
       "1           NaN                                               NaN  \n",
       "2           NaN                                               NaN  \n",
       "3           NaN                                               NaN  \n",
       "4           NaN                                               NaN  \n",
       "\n",
       "[5 rows x 69 columns]"
      ]
     },
     "execution_count": 394,
     "metadata": {},
     "output_type": "execute_result"
    }
   ],
   "source": [
    "filepath = 'data/standvirtual_cars_updated_200310.csv'\n",
    "df = pd.read_csv(filepath)\n",
    "df.head()"
   ]
  },
  {
   "cell_type": "code",
   "execution_count": null,
   "metadata": {},
   "outputs": [],
   "source": []
  },
  {
   "cell_type": "code",
   "execution_count": 395,
   "metadata": {},
   "outputs": [
    {
     "name": "stdout",
     "output_type": "stream",
     "text": [
      "Index(['title', 'fuel_type', 'mileage', 'power', 'origin', 'city', 'region',\n",
      "       'reg_month', 'reg_year', 'garanty', 'price_neg', 'price', 'link',\n",
      "       'Anunciante', 'Marca', 'Modelo', 'Série', 'Versão', 'Cilindrada',\n",
      "       'Segmento', 'Cor', 'Metalizado', 'Tipo de Caixa', 'Número de Mudanças',\n",
      "       'Nº de portas', 'Lotação', 'Classe do veículo', 'Tracção',\n",
      "       'Emissões CO2', 'Filtro de Particulas', 'Livro de Revisões completo',\n",
      "       'Não fumador', '2º Chave', 'Consumo Urbano', 'Consumo Extra Urbano',\n",
      "       'Consumo Combinado', 'Tecto de Abrir', 'Jantes de Liga Leve',\n",
      "       'Medida Jantes de Liga Leve', 'Estofos', 'Numero de Airbags',\n",
      "       'Ar Condicionado', 'Condição', 'VIN', 'Aceita retoma',\n",
      "       'Garantia mecanica fabricante até', 'ou até', 'Registo(s)', 'Matrícula',\n",
      "       'Possibilidade de financiamento', 'Garantia de Stand (incl. no preço)',\n",
      "       'IUC', 'Inspecção válida até', 'Capota Eléctrica', 'IVA dedutível',\n",
      "       'Valor sem IUC', 'Capota', 'Autonomia Máxima', 'Salvado', 'Clássico',\n",
      "       'Valor sem ISV', 'Garantia de Stand (incl. no preço p/mutuo acordo)'],\n",
      "      dtype='object')\n",
      "62\n"
     ]
    }
   ],
   "source": [
    "repeated_cols = ['Combustível',\n",
    "                 'Mês de Registo',\n",
    "                 'Ano de Registo',\n",
    "                 'Quilómetros',\n",
    "                 'Potência',\n",
    "                 'Valor Fixo',\n",
    "                 'Origem']\n",
    "\n",
    "df = df.drop(columns=repeated_cols)\n",
    "\n",
    "print(df.columns)\n",
    "print(len(df.columns))"
   ]
  },
  {
   "cell_type": "code",
   "execution_count": 396,
   "metadata": {},
   "outputs": [],
   "source": [
    "cols_labels = [\n",
    "    'title',\n",
    "    'fuel_type',\n",
    "    'mileage',\n",
    "    'power',\n",
    "    'origin',\n",
    "    'city',\n",
    "    'region',\n",
    "    'reg_month',\n",
    "    'reg_year',\n",
    "    'garanty',\n",
    "    'price_neg',\n",
    "    'price',\n",
    "    'link',\n",
    "    'advertiser',\n",
    "    'brand',\n",
    "    'model',\n",
    "    'series',\n",
    "    'version',\n",
    "    'cylinder',\n",
    "    'segment',\n",
    "    'color',\n",
    "    'metallic',\n",
    "    'gear_type',\n",
    "    'gears_n',\n",
    "    'doors_n',\n",
    "    'capacity',\n",
    "    'class',\n",
    "    'traction',\n",
    "    'co2_emissions',\n",
    "    'particle_filter',\n",
    "    'revisions_book_complete',\n",
    "    'non_smoker',\n",
    "    '2nd_key',\n",
    "    'consumption_urban',\n",
    "    'consumption_extra_urban',\n",
    "    'consumption_combined',\n",
    "    'open_ceiling',\n",
    "    'alloy_wheels',\n",
    "    'alloy_wheels_size',\n",
    "    'upholstery',\n",
    "    'airbags_n',\n",
    "    'air_conditioning',\n",
    "    'vehicle_condition',\n",
    "    'vin',\n",
    "    'accepts_recovery',\n",
    "    'mechancal_guaranty_until_date',\n",
    "    'mechancal_guaranty_until_mileage',\n",
    "    'registrations_n',\n",
    "    'registration_id',\n",
    "    'finance_possible',\n",
    "    'stand_guaranty_in_price',\n",
    "    'iuc',\n",
    "    'inspection_validity_date',\n",
    "    'electric_canopy',\n",
    "    'vat_deductable',\n",
    "    'price_without_iuc',\n",
    "    'canopy',\n",
    "    'max_range',\n",
    "    'saved',\n",
    "    'classic',\n",
    "    'price_without_isv',\n",
    "    'stand_guaranty_not_in_price'\n",
    "]\n",
    "\n",
    "df.columns = cols_labels"
   ]
  },
  {
   "cell_type": "code",
   "execution_count": 397,
   "metadata": {},
   "outputs": [
    {
     "name": "stdout",
     "output_type": "stream",
     "text": [
      "Index(['title', 'fuel_type', 'mileage', 'power', 'origin', 'city', 'region',\n",
      "       'reg_month', 'reg_year', 'garanty', 'price_neg', 'price', 'link',\n",
      "       'advertiser', 'brand', 'model', 'series', 'version', 'cylinder',\n",
      "       'segment', 'color', 'metallic', 'gear_type', 'gears_n', 'doors_n',\n",
      "       'capacity', 'class', 'traction', 'co2_emissions', 'particle_filter',\n",
      "       'revisions_book_complete', 'non_smoker', '2nd_key', 'consumption_urban',\n",
      "       'consumption_extra_urban', 'consumption_combined', 'open_ceiling',\n",
      "       'alloy_wheels', 'alloy_wheels_size', 'upholstery', 'airbags_n',\n",
      "       'air_conditioning', 'vehicle_condition', 'vin', 'accepts_recovery',\n",
      "       'mechancal_guaranty_until_date', 'mechancal_guaranty_until_mileage',\n",
      "       'registrations_n', 'registration_id', 'finance_possible',\n",
      "       'stand_guaranty_in_price', 'iuc', 'inspection_validity_date',\n",
      "       'electric_canopy', 'vat_deductable', 'price_without_iuc', 'canopy',\n",
      "       'max_range', 'saved', 'classic', 'price_without_isv',\n",
      "       'stand_guaranty_not_in_price'],\n",
      "      dtype='object')\n"
     ]
    }
   ],
   "source": [
    "print(df.columns)"
   ]
  },
  {
   "cell_type": "code",
   "execution_count": 398,
   "metadata": {},
   "outputs": [],
   "source": [
    "def plot_categorical(df, label=''):\n",
    "    data_u, data_c = np.unique(df.dropna(), return_counts=True)\n",
    "    six = np.argsort(data_c)\n",
    "\n",
    "    ysize = len(data_u)/2\n",
    "    xsize = 5\n",
    "\n",
    "    fig, ax = plt.subplots(1, figsize=[xsize,ysize])\n",
    "    plt.barh(data_u[six], data_c[six])\n",
    "    plt.title(label)\n",
    "    plt.xlabel('Count')\n",
    "    plt.show()\n",
    "    \n",
    "def plot_continuous(df, label=''):\n",
    "    bin_width = 2*stats.iqr(df)*len(df)**(-1/3) # Freedman-Diaconis rule    \n",
    "    bin_low = np.percentile(df,1)\n",
    "    bin_high = np.percentile(df,99)\n",
    "    bins = np.arange(bin_low, bin_high, bin_width)\n",
    "    \n",
    "    fig, ax = plt.subplots(1, figsize=[5,5])\n",
    "    plt.hist(df, bins=bins)\n",
    "    plt.xlabel(label)\n",
    "    plt.ylabel('Count')\n",
    "    plt.show()"
   ]
  },
  {
   "cell_type": "markdown",
   "metadata": {},
   "source": [
    "## Price negotiable clean"
   ]
  },
  {
   "cell_type": "code",
   "execution_count": 399,
   "metadata": {},
   "outputs": [
    {
     "data": {
      "text/plain": [
       "array([0, 1, nan], dtype=object)"
      ]
     },
     "execution_count": 399,
     "metadata": {},
     "output_type": "execute_result"
    }
   ],
   "source": [
    "df.loc[df['price_neg'] == 'Valor Fixo', 'price_neg'] = 0\n",
    "df.loc[df['price_neg'] == 'Negociável', 'price_neg'] = 1\n",
    "df.loc[df['price_neg'] == 'Negociável                                                , Valor negociável', 'price_neg'] = 1\n",
    "df.loc[df['price_neg'] == 'Valor Fixo                                                 , Valor negociável'] = np.nan\n",
    "\n",
    "df['price_neg'].unique()"
   ]
  },
  {
   "cell_type": "markdown",
   "metadata": {},
   "source": [
    "## Advertiser clean"
   ]
  },
  {
   "cell_type": "code",
   "execution_count": 400,
   "metadata": {},
   "outputs": [
    {
     "data": {
      "text/plain": [
       "array(['individial', 'professional', nan], dtype=object)"
      ]
     },
     "execution_count": 400,
     "metadata": {},
     "output_type": "execute_result"
    }
   ],
   "source": [
    "df.loc[df['advertiser'] == 'Particular', 'advertiser'] = 'individial'\n",
    "df.loc[df['advertiser'] == 'Profissional', 'advertiser'] = 'professional'\n",
    "df['advertiser'].unique()"
   ]
  },
  {
   "cell_type": "markdown",
   "metadata": {},
   "source": [
    "## Brands"
   ]
  },
  {
   "cell_type": "code",
   "execution_count": 401,
   "metadata": {},
   "outputs": [
    {
     "data": {
      "text/plain": [
       "array(['Mercedes-Benz', 'Fiat', 'BMW', 'VW', 'Peugeot', 'Volvo',\n",
       "       'Citroën', 'Renault', 'Land Rover', 'Ford', 'Audi', 'Toyota',\n",
       "       'MINI', 'Nissan', 'Mazda', 'Opel', 'Porsche', 'SEAT', nan, 'Skoda',\n",
       "       'Lexus', 'Alfa Romeo', 'Smart', 'Tesla', 'Mitsubishi', 'Suzuki',\n",
       "       'Lancia', 'Hyundai', 'Dacia', 'Abarth', 'Chatenet', 'Jaguar',\n",
       "       'Maserati', 'Honda', 'Kia', 'DS', 'Chevrolet', 'Saab', 'Jeep',\n",
       "       'Isuzu', 'Aixam', 'Chrysler', 'MG', 'UMM', 'Ferrari', 'Lotus',\n",
       "       'other', 'Subaru', 'Daihatsu', 'Bentley', 'Pontiac',\n",
       "       'Austin Morris', 'Rover', 'Ligier', 'Datsun', 'Microcar',\n",
       "       'SsangYong', 'Dodge', 'Hummer', 'GMC', 'Cadillac', 'Lamborghini',\n",
       "       'Daewoo', 'McLaren', 'Infiniti', 'Aston Martin', 'Triumph',\n",
       "       'Rolls Royce'], dtype=object)"
      ]
     },
     "execution_count": 401,
     "metadata": {},
     "output_type": "execute_result"
    }
   ],
   "source": [
    "df.loc[df['brand'] == 'Outra não listada', 'brand'] = 'other'\n",
    "df['brand'].unique()"
   ]
  },
  {
   "cell_type": "markdown",
   "metadata": {},
   "source": [
    "## Cylinder capacity"
   ]
  },
  {
   "cell_type": "code",
   "execution_count": 402,
   "metadata": {},
   "outputs": [],
   "source": [
    "df['cylinder'] = pd.to_numeric(df['cylinder'].str.replace('cm3','').str.strip().str.replace(' ',''))"
   ]
  },
  {
   "cell_type": "markdown",
   "metadata": {},
   "source": [
    "## Segment"
   ]
  },
  {
   "cell_type": "code",
   "execution_count": 403,
   "metadata": {},
   "outputs": [
    {
     "data": {
      "text/plain": [
       "array(['coupe', 'utilitary', 'van', 'sedan', 'cabrio', 'mini_van',\n",
       "       'city_small', 'city', 'suv', nan], dtype=object)"
      ]
     },
     "execution_count": 403,
     "metadata": {},
     "output_type": "execute_result"
    }
   ],
   "source": [
    "df.loc[df['segment'] == 'Coupé', 'segment'] = 'coupe'\n",
    "df.loc[df['segment'] == 'Utilitário', 'segment'] = 'utilitary'\n",
    "df.loc[df['segment'] == 'Carrinha', 'segment'] = 'van'\n",
    "df.loc[df['segment'] == 'Monovolume', 'segment'] = 'mini_van'\n",
    "df.loc[df['segment'] == 'Pequeno citadino', 'segment'] = 'city_small'\n",
    "df.loc[df['segment'] == 'Citadino', 'segment'] = 'city'\n",
    "df.loc[df['segment'] == 'SUV / TT', 'segment'] = 'suv'\n",
    "\n",
    "df['segment'] = df['segment'].str.lower()\n",
    "df['segment'].unique()"
   ]
  },
  {
   "cell_type": "markdown",
   "metadata": {},
   "source": [
    "## Color"
   ]
  },
  {
   "cell_type": "code",
   "execution_count": 404,
   "metadata": {},
   "outputs": [
    {
     "data": {
      "text/plain": [
       "array(['white', 'gray', 'blue', 'black', 'silver', 'brown', 'red',\n",
       "       'orange', 'green', nan, 'other', 'beige', 'purple', 'golden',\n",
       "       'yellow'], dtype=object)"
      ]
     },
     "execution_count": 404,
     "metadata": {},
     "output_type": "execute_result"
    }
   ],
   "source": [
    "df.loc[df['color'] == 'Branco', 'color'] = 'white'\n",
    "df.loc[df['color'] == 'Cinzento', 'color'] = 'gray'\n",
    "df.loc[df['color'] == 'Azul', 'color'] = 'blue'\n",
    "df.loc[df['color'] == 'Preto', 'color'] = 'black'\n",
    "df.loc[df['color'] == 'Prateado', 'color'] = 'silver'\n",
    "df.loc[df['color'] == 'Castanho', 'color'] = 'brown'\n",
    "df.loc[df['color'] == 'Vermelho', 'color'] = 'red'\n",
    "df.loc[df['color'] == 'Laranja', 'color'] = 'orange'\n",
    "df.loc[df['color'] == 'Verde', 'color'] = 'green'\n",
    "df.loc[df['color'] == 'Outra', 'color'] = 'other'\n",
    "df.loc[df['color'] == 'Bege', 'color'] = 'beige'\n",
    "df.loc[df['color'] == 'Roxo', 'color'] = 'purple'\n",
    "df.loc[df['color'] == 'Dourado', 'color'] = 'golden'\n",
    "df.loc[df['color'] == 'Amarelo', 'color'] = 'yellow'\n",
    "\n",
    "df['color'].unique()"
   ]
  },
  {
   "cell_type": "markdown",
   "metadata": {},
   "source": [
    "## Metallic"
   ]
  },
  {
   "cell_type": "code",
   "execution_count": 405,
   "metadata": {},
   "outputs": [],
   "source": [
    "df.loc[df['metallic'] == 'Sim', 'metallic'] = 1"
   ]
  },
  {
   "cell_type": "markdown",
   "metadata": {},
   "source": [
    "## Gear type"
   ]
  },
  {
   "cell_type": "code",
   "execution_count": 406,
   "metadata": {},
   "outputs": [
    {
     "data": {
      "text/plain": [
       "array(['automatic', 'manual', nan, 'semiauto'], dtype=object)"
      ]
     },
     "execution_count": 406,
     "metadata": {},
     "output_type": "execute_result"
    }
   ],
   "source": [
    "df.loc[df['gear_type'] == 'Automática', 'gear_type'] = 'automatic'\n",
    "df.loc[df['gear_type'] == 'Manual', 'gear_type'] = 'manual'\n",
    "df.loc[df['gear_type'] == 'Semi-automática', 'gear_type'] = 'semiauto'\n",
    "df['gear_type'].unique()"
   ]
  },
  {
   "cell_type": "markdown",
   "metadata": {},
   "source": [
    "## Revisions book complete"
   ]
  },
  {
   "cell_type": "code",
   "execution_count": 407,
   "metadata": {},
   "outputs": [
    {
     "data": {
      "text/plain": [
       "array([1, nan], dtype=object)"
      ]
     },
     "execution_count": 407,
     "metadata": {},
     "output_type": "execute_result"
    }
   ],
   "source": [
    "df.loc[df['revisions_book_complete'] == 'Sim', 'revisions_book_complete'] = 1\n",
    "df['revisions_book_complete'].unique()"
   ]
  },
  {
   "cell_type": "markdown",
   "metadata": {},
   "source": [
    "## Non smoker"
   ]
  },
  {
   "cell_type": "code",
   "execution_count": 408,
   "metadata": {},
   "outputs": [
    {
     "data": {
      "text/plain": [
       "array([1, nan], dtype=object)"
      ]
     },
     "execution_count": 408,
     "metadata": {},
     "output_type": "execute_result"
    }
   ],
   "source": [
    "df.loc[df['non_smoker'] == 'Sim', 'non_smoker'] = 1\n",
    "df['non_smoker'].unique()"
   ]
  },
  {
   "cell_type": "markdown",
   "metadata": {},
   "source": [
    "## 2nd key"
   ]
  },
  {
   "cell_type": "code",
   "execution_count": 409,
   "metadata": {},
   "outputs": [
    {
     "data": {
      "text/plain": [
       "array([1, nan], dtype=object)"
      ]
     },
     "execution_count": 409,
     "metadata": {},
     "output_type": "execute_result"
    }
   ],
   "source": [
    "df.loc[df['2nd_key'] == 'Sim', '2nd_key'] = 1\n",
    "df['2nd_key'].unique()"
   ]
  },
  {
   "cell_type": "markdown",
   "metadata": {},
   "source": [
    "## Consumption"
   ]
  },
  {
   "cell_type": "code",
   "execution_count": 410,
   "metadata": {},
   "outputs": [],
   "source": [
    "df['consumption_urban'] = pd.to_numeric(df['consumption_urban'].str.split(' ').str[0].str.replace(',','.'))\n",
    "df['consumption_extra_urban'] = pd.to_numeric(df['consumption_extra_urban'].str.split(' ').str[0].str.replace(',','.'))\n",
    "df['consumption_combined'] = pd.to_numeric(df['consumption_combined'].str.split(' ').str[0].str.replace(',','.'))"
   ]
  },
  {
   "cell_type": "markdown",
   "metadata": {},
   "source": [
    "## Open ceiling"
   ]
  },
  {
   "cell_type": "code",
   "execution_count": 411,
   "metadata": {},
   "outputs": [
    {
     "data": {
      "text/plain": [
       "array(['panoramic', nan, 'electric', 'manual'], dtype=object)"
      ]
     },
     "execution_count": 411,
     "metadata": {},
     "output_type": "execute_result"
    }
   ],
   "source": [
    "df.loc[df['open_ceiling'] == 'Tecto de Abrir Panorâmico', 'open_ceiling'] = 'panoramic'\n",
    "df.loc[df['open_ceiling'] == 'Tecto de Abrir Elétrico', 'open_ceiling'] = 'electric'\n",
    "df.loc[df['open_ceiling'] == 'Tecto de Abrir Manual', 'open_ceiling'] = 'manual'\n",
    "df['open_ceiling'].unique()"
   ]
  },
  {
   "cell_type": "markdown",
   "metadata": {},
   "source": [
    "## Alloy wheels"
   ]
  },
  {
   "cell_type": "code",
   "execution_count": 412,
   "metadata": {},
   "outputs": [
    {
     "data": {
      "text/plain": [
       "array([1, nan], dtype=object)"
      ]
     },
     "execution_count": 412,
     "metadata": {},
     "output_type": "execute_result"
    }
   ],
   "source": [
    "df.loc[df['alloy_wheels'] == 'Sim', 'alloy_wheels'] = 1\n",
    "df.loc[df['alloy_wheels'] == '17', 'alloy_wheels'] = 1\n",
    "df['alloy_wheels'].unique()"
   ]
  },
  {
   "cell_type": "markdown",
   "metadata": {},
   "source": [
    "## Alloy wheels size"
   ]
  },
  {
   "cell_type": "code",
   "execution_count": 413,
   "metadata": {},
   "outputs": [],
   "source": [
    "df['alloy_wheels_size'] = pd.to_numeric(df['alloy_wheels_size'].str.split(' ').str[0].str.replace(',','.'))"
   ]
  },
  {
   "cell_type": "markdown",
   "metadata": {},
   "source": [
    "## Upholstery"
   ]
  },
  {
   "cell_type": "code",
   "execution_count": 414,
   "metadata": {},
   "outputs": [
    {
     "data": {
      "text/plain": [
       "array(['fabric', 'leather', nan], dtype=object)"
      ]
     },
     "execution_count": 414,
     "metadata": {},
     "output_type": "execute_result"
    }
   ],
   "source": [
    "df.loc[df['upholstery'] == 'Estofos de Tecido', 'upholstery'] = 'fabric'\n",
    "df.loc[df['upholstery'] == 'Estofos de Pele', 'upholstery'] = 'leather'\n",
    "df['upholstery'].unique()"
   ]
  },
  {
   "cell_type": "markdown",
   "metadata": {},
   "source": [
    "## Vehicle condition"
   ]
  },
  {
   "cell_type": "code",
   "execution_count": 415,
   "metadata": {},
   "outputs": [
    {
     "data": {
      "text/plain": [
       "array(['used', nan, 'new'], dtype=object)"
      ]
     },
     "execution_count": 415,
     "metadata": {},
     "output_type": "execute_result"
    }
   ],
   "source": [
    "df.loc[df['vehicle_condition'] == 'Usados', 'vehicle_condition'] = 'used'\n",
    "df.loc[df['vehicle_condition'] == 'Novos', 'vehicle_condition'] = 'new'\n",
    "df['vehicle_condition'].unique()"
   ]
  },
  {
   "cell_type": "markdown",
   "metadata": {},
   "source": [
    "## Accepts recovery"
   ]
  },
  {
   "cell_type": "code",
   "execution_count": 416,
   "metadata": {},
   "outputs": [
    {
     "data": {
      "text/plain": [
       "array([nan, 1], dtype=object)"
      ]
     },
     "execution_count": 416,
     "metadata": {},
     "output_type": "execute_result"
    }
   ],
   "source": [
    "df.loc[df['accepts_recovery'] == 'Sim', 'accepts_recovery'] = 1\n",
    "df['accepts_recovery'].unique()"
   ]
  },
  {
   "cell_type": "markdown",
   "metadata": {},
   "source": [
    "## Mechancal guaranty until date"
   ]
  },
  {
   "cell_type": "code",
   "execution_count": 417,
   "metadata": {},
   "outputs": [],
   "source": [
    "df['mechancal_guaranty_until_date'] = pd.to_numeric(df['mechancal_guaranty_until_date'].str.split('/').str[::-1].str.join(''))"
   ]
  },
  {
   "cell_type": "markdown",
   "metadata": {},
   "source": [
    "## mechancal_guaranty_until_mileage"
   ]
  },
  {
   "cell_type": "code",
   "execution_count": 418,
   "metadata": {},
   "outputs": [],
   "source": [
    "df['mechancal_guaranty_until_mileage'] = pd.to_numeric(df['mechancal_guaranty_until_mileage'].str.replace(' km','').str.replace(' ',''))"
   ]
  },
  {
   "cell_type": "markdown",
   "metadata": {},
   "source": [
    "## finance_possible"
   ]
  },
  {
   "cell_type": "code",
   "execution_count": 419,
   "metadata": {},
   "outputs": [
    {
     "data": {
      "text/plain": [
       "array([nan, 1], dtype=object)"
      ]
     },
     "execution_count": 419,
     "metadata": {},
     "output_type": "execute_result"
    }
   ],
   "source": [
    "df.loc[df['finance_possible'] == 'Sim', 'finance_possible'] = 1\n",
    "df['finance_possible'].unique()"
   ]
  },
  {
   "cell_type": "markdown",
   "metadata": {},
   "source": [
    "## stand_guaranty_in_price"
   ]
  },
  {
   "cell_type": "code",
   "execution_count": 420,
   "metadata": {},
   "outputs": [],
   "source": [
    "df['stand_guaranty_in_price'] = pd.to_numeric(df['stand_guaranty_in_price'].str.replace(' Meses','').str.replace(' ',''))"
   ]
  },
  {
   "cell_type": "markdown",
   "metadata": {},
   "source": [
    "## iuc"
   ]
  },
  {
   "cell_type": "code",
   "execution_count": 421,
   "metadata": {},
   "outputs": [],
   "source": [
    "df['iuc'] = pd.to_numeric(df['iuc'].str.split(' ').str[0].str.replace(',','.'))"
   ]
  },
  {
   "cell_type": "markdown",
   "metadata": {},
   "source": [
    "## inspection_validity_date"
   ]
  },
  {
   "cell_type": "code",
   "execution_count": 422,
   "metadata": {},
   "outputs": [],
   "source": [
    "df['inspection_validity_date'] = pd.to_numeric(df['inspection_validity_date'].str.split('/').str[::-1].str.join(''))"
   ]
  },
  {
   "cell_type": "markdown",
   "metadata": {},
   "source": [
    "## electric_canopy"
   ]
  },
  {
   "cell_type": "code",
   "execution_count": 423,
   "metadata": {},
   "outputs": [
    {
     "data": {
      "text/plain": [
       "array([nan, 1], dtype=object)"
      ]
     },
     "execution_count": 423,
     "metadata": {},
     "output_type": "execute_result"
    }
   ],
   "source": [
    "df.loc[df['electric_canopy'] == 'Sim', 'electric_canopy'] = 1\n",
    "df['electric_canopy'].unique()"
   ]
  },
  {
   "cell_type": "markdown",
   "metadata": {},
   "source": [
    "## vat_deductable"
   ]
  },
  {
   "cell_type": "code",
   "execution_count": 424,
   "metadata": {},
   "outputs": [
    {
     "data": {
      "text/plain": [
       "array([nan, 1], dtype=object)"
      ]
     },
     "execution_count": 424,
     "metadata": {},
     "output_type": "execute_result"
    }
   ],
   "source": [
    "df.loc[df['vat_deductable'] == 'Sim', 'vat_deductable'] = 1\n",
    "df['vat_deductable'].unique()"
   ]
  },
  {
   "cell_type": "markdown",
   "metadata": {},
   "source": [
    "## price_without_iuc"
   ]
  },
  {
   "cell_type": "code",
   "execution_count": 425,
   "metadata": {},
   "outputs": [
    {
     "data": {
      "text/plain": [
       "array([nan, 1], dtype=object)"
      ]
     },
     "execution_count": 425,
     "metadata": {},
     "output_type": "execute_result"
    }
   ],
   "source": [
    "df.loc[df['price_without_iuc'] == 'Sim', 'price_without_iuc'] = 1\n",
    "df['price_without_iuc'].unique()"
   ]
  },
  {
   "cell_type": "markdown",
   "metadata": {},
   "source": [
    "## canopy"
   ]
  },
  {
   "cell_type": "code",
   "execution_count": 426,
   "metadata": {},
   "outputs": [
    {
     "data": {
      "text/plain": [
       "array([nan, 'canvas', 'rigid', 'hardtop'], dtype=object)"
      ]
     },
     "execution_count": 426,
     "metadata": {},
     "output_type": "execute_result"
    }
   ],
   "source": [
    "df.loc[df['canopy'] == 'Capota de Lona', 'canopy'] = 'canvas'\n",
    "df.loc[df['canopy'] == 'Capota Rígida', 'canopy'] = 'rigid'\n",
    "df.loc[df['canopy'] == 'Capota Hardtop', 'canopy'] = 'hardtop'\n",
    "df['canopy'].unique()"
   ]
  },
  {
   "cell_type": "markdown",
   "metadata": {},
   "source": [
    "## max_range"
   ]
  },
  {
   "cell_type": "code",
   "execution_count": 427,
   "metadata": {},
   "outputs": [],
   "source": [
    "df['max_range'] = pd.to_numeric(df['max_range'].str.replace(' km','').str.replace(' ','').str.replace(',','.'))"
   ]
  },
  {
   "cell_type": "markdown",
   "metadata": {},
   "source": [
    "## saved"
   ]
  },
  {
   "cell_type": "code",
   "execution_count": 428,
   "metadata": {},
   "outputs": [
    {
     "data": {
      "text/plain": [
       "array([nan, 1], dtype=object)"
      ]
     },
     "execution_count": 428,
     "metadata": {},
     "output_type": "execute_result"
    }
   ],
   "source": [
    "df.loc[df['saved'] == 'Sim', 'saved'] = 1\n",
    "df['saved'].unique()"
   ]
  },
  {
   "cell_type": "markdown",
   "metadata": {},
   "source": [
    "## Classic"
   ]
  },
  {
   "cell_type": "code",
   "execution_count": 429,
   "metadata": {},
   "outputs": [
    {
     "data": {
      "text/plain": [
       "array([nan, 1], dtype=object)"
      ]
     },
     "execution_count": 429,
     "metadata": {},
     "output_type": "execute_result"
    }
   ],
   "source": [
    "df.loc[((df['classic'] == 'Sim') | (df['classic'] == 'true')), 'classic'] = 1\n",
    "df['classic'].unique()"
   ]
  },
  {
   "cell_type": "markdown",
   "metadata": {},
   "source": [
    "## price_without_isv"
   ]
  },
  {
   "cell_type": "code",
   "execution_count": 430,
   "metadata": {},
   "outputs": [
    {
     "data": {
      "text/plain": [
       "array([nan, 1], dtype=object)"
      ]
     },
     "execution_count": 430,
     "metadata": {},
     "output_type": "execute_result"
    }
   ],
   "source": [
    "df.loc[df['price_without_isv'] == 'Sim', 'price_without_isv'] = 1\n",
    "df['price_without_isv'].unique()"
   ]
  },
  {
   "cell_type": "markdown",
   "metadata": {},
   "source": [
    "## stand_guaranty_not_in_price"
   ]
  },
  {
   "cell_type": "code",
   "execution_count": 431,
   "metadata": {},
   "outputs": [],
   "source": [
    "df['stand_guaranty_not_in_price'] = pd.to_numeric(df['stand_guaranty_not_in_price'].str.replace(' Meses',''))"
   ]
  },
  {
   "cell_type": "markdown",
   "metadata": {},
   "source": [
    "## A/C"
   ]
  },
  {
   "cell_type": "code",
   "execution_count": 432,
   "metadata": {},
   "outputs": [
    {
     "data": {
      "text/plain": [
       "array(['automatic', 'manual', 'independent', nan], dtype=object)"
      ]
     },
     "execution_count": 432,
     "metadata": {},
     "output_type": "execute_result"
    }
   ],
   "source": [
    "df.loc[df['air_conditioning'] == 'AC Automático', 'air_conditioning'] = 'automatic'\n",
    "df.loc[df['air_conditioning'] == 'AC Manual', 'air_conditioning'] = 'manual'\n",
    "df.loc[df['air_conditioning'] == 'AC Independente', 'air_conditioning'] = 'independent'\n",
    "df['air_conditioning'].unique()"
   ]
  },
  {
   "cell_type": "code",
   "execution_count": null,
   "metadata": {},
   "outputs": [],
   "source": []
  },
  {
   "cell_type": "markdown",
   "metadata": {},
   "source": [
    "## Class"
   ]
  },
  {
   "cell_type": "code",
   "execution_count": 433,
   "metadata": {},
   "outputs": [],
   "source": [
    "df['class'] = pd.to_numeric(df['class'].str.split(' ').str[-1])"
   ]
  },
  {
   "cell_type": "markdown",
   "metadata": {},
   "source": [
    "## Traction"
   ]
  },
  {
   "cell_type": "code",
   "execution_count": 434,
   "metadata": {},
   "outputs": [
    {
     "data": {
      "text/plain": [
       "array(['back', 'front', 'both', nan], dtype=object)"
      ]
     },
     "execution_count": 434,
     "metadata": {},
     "output_type": "execute_result"
    }
   ],
   "source": [
    "df.loc[df['traction'] == 'Tracção traseira', 'traction'] = 'back'\n",
    "df.loc[df['traction'] == 'Tracção dianteira', 'traction'] = 'front'\n",
    "df.loc[df['traction'] == 'Integral', 'traction'] = 'both'\n",
    "\n",
    "df['traction'].unique()"
   ]
  },
  {
   "cell_type": "markdown",
   "metadata": {},
   "source": [
    "## CO2 emissions"
   ]
  },
  {
   "cell_type": "code",
   "execution_count": 435,
   "metadata": {},
   "outputs": [],
   "source": [
    "df['co2_emissions'] = pd.to_numeric(df['co2_emissions'].str.replace(' g/km','').str.replace(',','.'))"
   ]
  },
  {
   "cell_type": "markdown",
   "metadata": {},
   "source": [
    "## Particle filter"
   ]
  },
  {
   "cell_type": "code",
   "execution_count": 436,
   "metadata": {},
   "outputs": [],
   "source": [
    "df.loc[df['particle_filter'] == 'Sim', 'particle_filter'] = 1"
   ]
  },
  {
   "cell_type": "markdown",
   "metadata": {},
   "source": [
    "## Save"
   ]
  },
  {
   "cell_type": "code",
   "execution_count": 437,
   "metadata": {},
   "outputs": [],
   "source": [
    "savepath = filepath.split('.csv')[0]+'_clean.csv'\n",
    "df.to_csv(savepath, index=False)"
   ]
  },
  {
   "cell_type": "code",
   "execution_count": null,
   "metadata": {},
   "outputs": [],
   "source": []
  },
  {
   "cell_type": "code",
   "execution_count": null,
   "metadata": {},
   "outputs": [],
   "source": []
  },
  {
   "cell_type": "code",
   "execution_count": null,
   "metadata": {},
   "outputs": [],
   "source": []
  },
  {
   "cell_type": "code",
   "execution_count": null,
   "metadata": {},
   "outputs": [],
   "source": []
  },
  {
   "cell_type": "code",
   "execution_count": null,
   "metadata": {},
   "outputs": [],
   "source": []
  }
 ],
 "metadata": {
  "kernelspec": {
   "display_name": "Python 3",
   "language": "python",
   "name": "python3"
  },
  "language_info": {
   "codemirror_mode": {
    "name": "ipython",
    "version": 3
   },
   "file_extension": ".py",
   "mimetype": "text/x-python",
   "name": "python",
   "nbconvert_exporter": "python",
   "pygments_lexer": "ipython3",
   "version": "3.7.6"
  }
 },
 "nbformat": 4,
 "nbformat_minor": 4
}

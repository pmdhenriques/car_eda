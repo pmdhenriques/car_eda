{
 "nbformat": 4,
 "nbformat_minor": 2,
 "metadata": {
  "language_info": {
   "name": "python",
   "codemirror_mode": {
    "name": "ipython",
    "version": 3
   },
   "version": "3.8.2-final"
  },
  "orig_nbformat": 2,
  "file_extension": ".py",
  "mimetype": "text/x-python",
  "name": "python",
  "npconvert_exporter": "python",
  "pygments_lexer": "ipython3",
  "version": 3,
  "kernelspec": {
   "name": "python38264bitbase2conda2e42cd48eb0b49e3a2303127d8fb4e83",
   "display_name": "Python 3.8.2 64-bit ('base2': conda)"
  }
 },
 "cells": [
  {
   "cell_type": "code",
   "execution_count": 22,
   "metadata": {},
   "outputs": [],
   "source": [
    "import pandas as pd\n",
    "import numpy as np\n",
    "import datetime\n",
    "\n",
    "today = datetime.date.today().strftime(\"%y%m%d\")\n",
    ""
   ]
  },
  {
   "cell_type": "code",
   "execution_count": 2,
   "metadata": {},
   "outputs": [],
   "source": [
    "df1 = pd.read_csv('data/standvirtual_cars_updated_200310_clean.csv')\n",
    "df2 = pd.read_csv('data/standvirtual_cars_updated_200410_clean.csv')"
   ]
  },
  {
   "cell_type": "code",
   "execution_count": 20,
   "metadata": {},
   "outputs": [
    {
     "output_type": "execute_result",
     "data": {
      "text/plain": "(32004, 64)"
     },
     "metadata": {},
     "execution_count": 20
    }
   ],
   "source": [
    "df0 = pd.concat([df1,df2], axis=0, ignore_index=True)\n",
    "\n",
    "np.shape(df0)"
   ]
  },
  {
   "cell_type": "code",
   "execution_count": 21,
   "metadata": {},
   "outputs": [
    {
     "output_type": "execute_result",
     "data": {
      "text/plain": "(31977, 64)"
     },
     "metadata": {},
     "execution_count": 21
    }
   ],
   "source": [
    "df0 = df0.drop_duplicates(subset='link').reset_index(drop=True)\n",
    "\n",
    "np.shape(df0)"
   ]
  },
  {
   "cell_type": "code",
   "execution_count": 23,
   "metadata": {},
   "outputs": [],
   "source": [
    "df0.to_csv('data/standvirtual_cars_clean_merge_%s.csv'%(today), index=False)"
   ]
  }
 ]
}
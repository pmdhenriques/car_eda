{
 "cells": [
  {
   "cell_type": "code",
   "execution_count": 2,
   "metadata": {},
   "outputs": [],
   "source": [
    "import pandas as pd\n",
    "import numpy as np\n",
    "import datetime\n",
    "from glob import glob\n",
    "from tqdm import tqdm\n",
    "\n",
    "today = datetime.date.today().strftime(\"%y%m%d\")"
   ]
  },
  {
   "cell_type": "code",
   "execution_count": 3,
   "metadata": {
    "tags": []
   },
   "outputs": [
    {
     "output_type": "stream",
     "name": "stderr",
     "text": "100%|██████████| 7/7 [00:02<00:00,  2.39it/s]\n"
    }
   ],
   "source": [
    "files = glob('../data/standvirtual_dataset*.csv')\n",
    "\n",
    "for i in tqdm(range(len(files))):\n",
    "    if i == 0:\n",
    "        df = pd.read_csv(files[i])\n",
    "    else:\n",
    "        df1 = pd.read_csv(files[i])\n",
    "        df = pd.concat([df,df1], axis=0, ignore_index=True)\n",
    "\n",
    "df = df.drop_duplicates(subset=['link']).reset_index(drop=True)"
   ]
  },
  {
   "cell_type": "code",
   "execution_count": 4,
   "metadata": {},
   "outputs": [],
   "source": [
    "df.to_csv('../data/standvirtual_dataset_merge_%s.csv'%(today), index=False)"
   ]
  }
 ],
 "metadata": {
  "language_info": {
   "codemirror_mode": {
    "name": "ipython",
    "version": 3
   },
   "file_extension": ".py",
   "mimetype": "text/x-python",
   "name": "python",
   "nbconvert_exporter": "python",
   "pygments_lexer": "ipython3",
   "version": "3.8.2-final"
  },
  "orig_nbformat": 2,
  "kernelspec": {
   "name": "python38264bitbase2conda2e42cd48eb0b49e3a2303127d8fb4e83",
   "display_name": "Python 3.8.2 64-bit ('base2': conda)"
  }
 },
 "nbformat": 4,
 "nbformat_minor": 2
}
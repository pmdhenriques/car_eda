{
 "cells": [
  {
   "cell_type": "code",
   "execution_count": 8,
   "metadata": {},
   "outputs": [],
   "source": [
    "import pandas as pd\n",
    "import numpy as np\n",
    "import sweetviz as sv\n",
    "import datetime\n",
    "\n",
    "today = datetime.date.today().strftime('%y%m%d')"
   ]
  },
  {
   "cell_type": "code",
   "execution_count": 4,
   "metadata": {},
   "outputs": [],
   "source": [
    "df = pd.read_csv('../data/standvirtual_dataset_merge_200628.csv')\n",
    "df = df.drop(columns=[\n",
    "    'factory_guaranty_until_date',\n",
    "    'inspection_validity_date',\n",
    "    'mechancal_guaranty_until_date',\n",
    "    'price_without_iuc',\n",
    "    'link',\n",
    "    'title',\n",
    "    'mechancal_guaranty_until_mileage',\n",
    "    'price_detail',\n",
    "    'price_without_isv',\n",
    "    'registration_id',\n",
    "    'stand_guaranty_not_in_price',\n",
    "    'vat_discriminated',\n",
    "    'vin',\n",
    "    ])"
   ]
  },
  {
   "cell_type": "code",
   "execution_count": 5,
   "metadata": {
    "tags": []
   },
   "outputs": [
    {
     "output_type": "stream",
     "name": "stderr",
     "text": ":FEATURES DONE:                    |                     | [  0%]   00:14  -> (00:00 left)\n:PAIRWISE DONE:                    |█████████████████████| [100%]   02:41  -> (00:00 left)\nCreating Associations graph...DONE!\n"
    }
   ],
   "source": [
    "advert_report = sv.analyze(df)"
   ]
  },
  {
   "cell_type": "code",
   "execution_count": 9,
   "metadata": {},
   "outputs": [],
   "source": [
    "advert_report.show_html('EDA_SV_%s.html'%(today))"
   ]
  }
 ],
 "metadata": {
  "language_info": {
   "codemirror_mode": {
    "name": "ipython",
    "version": 3
   },
   "file_extension": ".py",
   "mimetype": "text/x-python",
   "name": "python",
   "nbconvert_exporter": "python",
   "pygments_lexer": "ipython3",
   "version": "3.8.2-final"
  },
  "orig_nbformat": 2,
  "kernelspec": {
   "name": "python38264bitbase2conda2e42cd48eb0b49e3a2303127d8fb4e83",
   "display_name": "Python 3.8.2 64-bit ('base2': conda)"
  }
 },
 "nbformat": 4,
 "nbformat_minor": 2
}